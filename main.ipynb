{
 "cells": [
  {
   "cell_type": "code",
   "execution_count": 2,
   "id": "73f01b41",
   "metadata": {},
   "outputs": [],
   "source": [
    "import warnings\n",
    "\n",
    "import matplotlib.pyplot as plt\n",
    "%matplotlib inline\n",
    "import pandas as pd\n",
    "\n",
    "\n",
    "warnings.filterwarnings('ignore')\n",
    "pd.set_option(\"display.max_rows\", 50, \"display.max_columns\", 10)\n"
   ]
  },
  {
   "cell_type": "code",
   "execution_count": null,
   "id": "3c395ec4",
   "metadata": {},
   "outputs": [],
   "source": []
  },
  {
   "cell_type": "code",
   "execution_count": 3,
   "id": "906f0b1c",
   "metadata": {},
   "outputs": [
    {
     "name": "stdout",
     "output_type": "stream",
     "text": [
      "<class 'pandas.core.frame.DataFrame'>\n",
      "RangeIndex: 1543924 entries, 0 to 1543923\n",
      "Data columns (total 27 columns):\n",
      " #   Column          Non-Null Count    Dtype         \n",
      "---  ------          --------------    -----         \n",
      " 0   date            1543924 non-null  datetime64[ns]\n",
      " 1   open            1543924 non-null  float64       \n",
      " 2   high            1543924 non-null  float64       \n",
      " 3   low             1543924 non-null  float64       \n",
      " 4   close           1543924 non-null  float64       \n",
      " 5   iv_open         1543924 non-null  float64       \n",
      " 6   iv_high         1543924 non-null  float64       \n",
      " 7   iv_low          1543924 non-null  float64       \n",
      " 8   iv_close        1543924 non-null  float64       \n",
      " 9   volume          1543924 non-null  float64       \n",
      " 10  average         1543924 non-null  float64       \n",
      " 11  barCount        1543924 non-null  int64         \n",
      " 12  prev_close      1543924 non-null  float64       \n",
      " 13  iv_prev_close   1543924 non-null  float64       \n",
      " 14  open_close      1543924 non-null  float64       \n",
      " 15  close_close     1543924 non-null  float64       \n",
      " 16  close_open      1543924 non-null  float64       \n",
      " 17  iv_open_close   1543924 non-null  float64       \n",
      " 18  iv_close_close  1543924 non-null  float64       \n",
      " 19  iv_close_open   1543924 non-null  float64       \n",
      " 20  real_vol        1543924 non-null  float64       \n",
      " 21  previous_vol    1543924 non-null  float64       \n",
      " 22  max_vol         1543924 non-null  float64       \n",
      " 23  max_up          1543924 non-null  float64       \n",
      " 24  max_down        1543924 non-null  float64       \n",
      " 25  peak_move       1543924 non-null  float64       \n",
      " 26  day             1543924 non-null  int64         \n",
      "dtypes: datetime64[ns](1), float64(24), int64(2)\n",
      "memory usage: 318.0 MB\n"
     ]
    }
   ],
   "source": [
    "# load the dataframe with 11 year SPX 1 Day OHLC data and other custom columns based around those OHLC data\n",
    "df = pd.read_pickle('../../dfs/1min_spx_max_iv_rth.pkl')\n",
    "df_size = len(df)\n",
    "df.info()"
   ]
  },
  {
   "cell_type": "code",
   "execution_count": 1,
   "id": "4187f1ad",
   "metadata": {},
   "outputs": [
    {
     "ename": "NameError",
     "evalue": "name 'df' is not defined",
     "output_type": "error",
     "traceback": [
      "\u001b[0;31m---------------------------------------------------------------------------\u001b[0m",
      "\u001b[0;31mNameError\u001b[0m                                 Traceback (most recent call last)",
      "Cell \u001b[0;32mIn[1], line 2\u001b[0m\n\u001b[1;32m      1\u001b[0m \u001b[39m# print and plot the data for quick validation that the data appear intact and as expected.\u001b[39;00m\n\u001b[0;32m----> 2\u001b[0m \u001b[39mprint\u001b[39m(\u001b[39mf\u001b[39m\u001b[39m\"\u001b[39m\u001b[39mmean real_vol:           \u001b[39m\u001b[39m{\u001b[39;00mdf[\u001b[39m'\u001b[39m\u001b[39mreal_vol\u001b[39m\u001b[39m'\u001b[39m]\u001b[39m.\u001b[39mmean()\u001b[39m:\u001b[39;00m\u001b[39m.2f\u001b[39m\u001b[39m}\u001b[39;00m\u001b[39m%\u001b[39m\u001b[39m\"\u001b[39m)\n\u001b[1;32m      3\u001b[0m \u001b[39mprint\u001b[39m(\u001b[39mf\u001b[39m\u001b[39m\"\u001b[39m\u001b[39mmax real_vol:            \u001b[39m\u001b[39m{\u001b[39;00mdf[\u001b[39m'\u001b[39m\u001b[39mreal_vol\u001b[39m\u001b[39m'\u001b[39m]\u001b[39m.\u001b[39mmax()\u001b[39m:\u001b[39;00m\u001b[39m.2f\u001b[39m\u001b[39m}\u001b[39;00m\u001b[39m%\u001b[39m\u001b[39m\"\u001b[39m)\n\u001b[1;32m      4\u001b[0m \u001b[39mprint\u001b[39m(\u001b[39mf\u001b[39m\u001b[39m\"\u001b[39m\u001b[39mmedian real_vol:         \u001b[39m\u001b[39m{\u001b[39;00mdf[\u001b[39m'\u001b[39m\u001b[39mreal_vol\u001b[39m\u001b[39m'\u001b[39m]\u001b[39m.\u001b[39mmedian()\u001b[39m:\u001b[39;00m\u001b[39m.2f\u001b[39m\u001b[39m}\u001b[39;00m\u001b[39m%\u001b[39m\u001b[39m\"\u001b[39m)\n",
      "\u001b[0;31mNameError\u001b[0m: name 'df' is not defined"
     ]
    }
   ],
   "source": [
    "# print and plot the data for quick validation that the data appear intact and as expected.\n",
    "print(f\"mean real_vol:           {df['real_vol'].mean():.2f}%\")\n",
    "print(f\"max real_vol:            {df['real_vol'].max():.2f}%\")\n",
    "print(f\"median real_vol:         {df['real_vol'].median():.2f}%\")\n",
    "print(f\"median daily movement:   {100 * df['open_close'].abs().median():.3f}%\")\n",
    "print(f\"mean close_open:         {100 * df['close_open'].abs().mean():.3f}%\")\n",
    "print(f\"median close_open:       {100 * df['close_open'].abs().median():.3f}%\")\n",
    "print(f\"iv open mean:            {100 * df['iv_open'].mean():.2f}%\")\n",
    "print(f\"iv open median:          {100 * df['iv_open'].median():.2f}%\")\n",
    "\n",
    "df.plot('date', 'open')\n",
    "df.plot('date', 'iv_open')\n",
    "df.plot('date', 'close_open')\n",
    "df.plot('date', 'iv_close_close')\n",
    "df.plot('date', 'real_vol')\n",
    "df.plot('date', 'max_vol')"
   ]
  },
  {
   "cell_type": "raw",
   "id": "c01e7521",
   "metadata": {},
   "source": [
    "---------------------------------------------------- Task Log ----------------------------------------------------\n",
    "ACTIVE TASK:\n",
    "\n",
    "\n",
    "\n",
    "\n",
    "\n",
    "------------------------------------------------------------------------------------------------------------------\n",
    "TASKS:\n",
    "1. fork this backtester and create one that trades on 1-min data intraday one for backtesting scalping long straddles, and other strats\n",
    "    a. fork get_data and create get_1min_data\n",
    "1. write a function that takes all the input parameters and logs the output values for analysis and to save the winners. Particularly useful for the optimization loop where inputs aren't manually inputted and only the maximal parameters are spit out at the end of the program.\n",
    "1. build out plotting of df (plot sample, sequential, all??, etc.)\n",
    "1. write an optimization loop for finding the ideal strats.\n",
    "    > focus on small subsets at a time else the runtime will be too large.\n",
    "1. add greeks (delta, theta, vega) values to the bsm_calculations, though this isn't useful.\n",
    "    > add a flag calc_greeks = False.\n",
    "1. [bug] if during scalping a position is closed early, the next position doesn't start immediately but theoretically should be able to. (minor bug)\n",
    "1. improve the documentation of the entire program\n",
    "\n",
    "\n",
    "\n",
    "\n",
    "\n",
    "\n",
    "------------------------------------------------------------------------------------------------------------------\n",
    "COMPLETED TASKS:\n",
    "x. decide what to do with existing old bsm calc... [DELETE IT]\n",
    "x. break passthrough into many smaller functions that filter and modify the df individually.\n",
    "x. modify the strike placement so the coefs are the MAX distance OTM, and the strike gap moves *inside*\n",
    " instead of further OTM. although this might not matter if only using bsm...\n",
    "x. refactor d1, d2, call, put equations to match those in hull.\n",
    "x. remove useless parameters:\n",
    "    x short_vol\n",
    "    x vol_only\n",
    "    x vix_coef\n",
    "    x b\n",
    "    x theta (replace with spread_loss)\n",
    "    x bsm_only\n",
    "    x sigma_lookback (no longer needed since sigma is taken right from IV instead of calculated)\n",
    "x. find out which is better: thinning subset() before bsm_calcs or after.\n",
    "    > filtering before is >2x faster overall computation time than after, though it has the error where shifts are messed up at the end. So to solve this, add hp to the outer range and then just trim out the last -hp: rows.\n",
    "x. debug whether or not subset() filtering should go before or after BSM calculations.\n",
    "x. debug why df.copy() is needed in perform_shifts() instead of just df? > because a reference to df, even if returning a subset of it, much like a list in python, is mutable. So passing df and shifting it will shift the global variable too. Use copy() to prevent this whenever modifying either by shifting, or other.\n",
    "x. refactor sequential() functions for simulating real trading. It's imperfect in current form. If all parameters are met in passthrough and the entire df is returned, ZERO days will ever start because the next day is never > hp away from current day. -> it works as intended now, but is not vectorized, albeit it runs in an avg. 0.0002s on the entire df.\n",
    "x. refactor this notebook and get_data to normalize IV data to decimal format for optimized computations.\n",
    "x. integrate new BSM with passthrough\n",
    "x. fix and build out sequential positions\n",
    "x. figure out how the naked flag will work or allowing unhedged and hedged positions. eg. hedged call naked put.\n",
    "    x. split parameters independently between calls and puts. eg. allow for a naked put and a hedged call.\n",
    "    x. refactor get_strikes() with the new parameters.\n",
    "    x. solve the return calculations with the newly independent parameters\n",
    "        > all defined risk positions are unchanged, a fudge factor was used to estimate risk for undefined risk positions by taking IV at open to predict realized volatility over the holding period.\n",
    "x. incorporate constant spread losses (bid-ask spread friction) into BSM equation. This disincentivizes short holding periods\n",
    "x. make a flag to use_bsm or use_traditional for the winner criterion. added, but not built out... > traditional has been deleted since it's inferior in all respects to the new BSM model.\n",
    "x. further customize possibilities\n",
    "    x. naked positions (long and short)\n",
    "    x. independent call and put strike gaps\n",
    "    x. independent call_is_credit and put_is_credit to allow for positions like synthetic short, collars, etc.\n",
    "x. build out naked flag for long only or short only position calculations.\n",
    "  x. this will require a reworking of profit due to undefined risk positions.\n",
    "x. revert back to one is_hedged flag and is_credit. It's too complicated with independent hedgings and debits and credits. A put spreads call spreads and iron condors is plenty to optimize on. Plus put debit spreads is likely going to outperform, so why bother.\n",
    "    x. delete independent is_credit and is_hedged flags for calls and puts.\n",
    "    x. revert fudge factor\n",
    "    x. revert risk and pom return denominator.\n",
    "x. figure out how to incorporate the kelly criterion in the new layout:\n",
    "    > what was the old strat??\n",
    "        > from pcs2.ipynb screenshot, win was basically num_winners / len(df). b was hardcoded.\n",
    "    x. how is `b` defined?\n",
    "        > has to be using risk return, not PoM. == mean rr in the event rr > 0.\n",
    "    x. how is `p` defined?\n",
    "        > again, must use rr. it's the count of times rr > 0 divided by len(df), giving probability of a win.\n",
    "   mx. if it different for hedged and unhedged positions?\n",
    "        > no, since rr accounts for this inherently.\n",
    "x. wager need to be updated for bsm based on updated p and b.\n",
    "x. add scalping to new BSM strat.\n",
    "    x. where should the scalping happen?\n",
    "        > if it happens after 3d bsm, it's a simple lookup if pom_return > threshold, but the issue becomes freexing the pom and risk returns for future rows so that later calculations such as kelly use the scalped (and potentially smaller) returns.\n",
    "            > went with this. It's not able to be vectorized, but it works.\n",
    "        x it could happen during the 3d array for-loop, but the issue of locking the future retuns is tricky\n",
    "    x. scalp based on PoM or RR?\n",
    "        > optionally scalp on either, but only on one.\n",
    "    x. `b` should be equal to max_gain. How was p calculated before? % winners? but many winners < max_gain\n",
    "x. scalping really only seems useful for long puts or short calls, where the position is against the prevailing long-term movement of the asset. Scalping long calls with long holding periods just limits gains more than it preserves them.\n",
    "    > test this hypothesis...\n",
    "        > the data being daily doesn't lend itself to sclaping as well as 1-min data would, but again the strategies I'm pursuing by this aren't daily strats anyways.\n",
    "x. Add a 'true_return' column to df that represents cash before and after the trade. (y2 - y1) / y1 but test for all types of spreads since credit spreads are negative.\n",
    "x. allow coefs to be based on standard deviations, porting logic from add_fudge_factor(). eg. 45 day naked 2SD strangle realizing gains at 20% PoM.\n",
    "    > how to repersent the sd??\n",
    "        x add a new variable call_sd and put_sd below call_coef and put_coef, respectively?\n",
    "        > allow call_coef to be '1 SD' or '1.05 x' (for constant multipliers) and .split(' ') for value and type\n",
    "        x flag for type, flag for value:\n",
    "            > is_sd = T/F (None for ignoring that right)\n",
    "            > coef_value = 1.5\n",
    "x. test the program on TSLA data -> passed and data were as expected.\n",
    "x. refactor fudge factor to use multiple standard deviations instead of just 1. Apply the min_risk still such that eg. a 2 SD strangle isn't riskless but rather still carries the min_risk.\n",
    "x. solve the bug where certain report outputs are nan%\n",
    "    > this happens when there are no losers in the df, trying to take the mean return of an empty df returns NaN.\n",
    "        > solution: check for the presence of 1+ losers, else just return 0.\n"
   ]
  },
  {
   "cell_type": "code",
   "execution_count": 7,
   "id": "e6b287e9",
   "metadata": {},
   "outputs": [
    {
     "data": {
      "text/plain": [
       "<AxesSubplot:xlabel='date'>"
      ]
     },
     "execution_count": 7,
     "metadata": {},
     "output_type": "execute_result"
    },
    {
     "data": {
      "image/png": "[encoded data removed]",
      "text/plain": [
       "<Figure size 432x288 with 1 Axes>"
      ]
     },
     "metadata": {
      "needs_background": "light"
     },
     "output_type": "display_data"
    },
    {
     "data": {
      "image/png": "[encoded data removed]",
      "text/plain": [
       "<Figure size 432x288 with 1 Axes>"
      ]
     },
     "metadata": {
      "needs_background": "light"
     },
     "output_type": "display_data"
    },
    {
     "data": {
      "image/png": "[encoded data removed]",
      "text/plain": [
       "<Figure size 432x288 with 1 Axes>"
      ]
     },
     "metadata": {
      "needs_background": "light"
     },
     "output_type": "display_data"
    }
   ],
   "source": [
    "# shift(1) is to prevent look-ahead bias\n",
    "df['1_day_return'] = (df['close'].shift(1) - df['open'].shift(2)) / df['open'].shift(2)\n",
    "df['20_day_avg_daily_return'] = df['1_day_return'].shift(1).rolling(20).mean()\n",
    "df['5_day_return'] = (df['close'].shift(1) - df['open'].shift(5)) / df['open'].shift(5)\n",
    "df['10_day_return'] = (df['close'].shift(1) - df['open'].shift(10)) / df['open'].shift(10)\n",
    "df['15_day_return'] = (df['close'].shift(1) - df['open'].shift(15)) / df['open'].shift(15)\n",
    "df['20_day_return'] = (df['close'].shift(1) - df['open'].shift(20)) / df['open'].shift(20)\n",
    "df['50_day_return'] = (df['close'].shift(1) - df['open'].shift(50)) / df['open'].shift(50)\n",
    "df['100_day_return'] = (df['close'].shift(1) - df['open'].shift(100)) / df['open'].shift(100)\n",
    "df.plot('date', '5_day_return')\n",
    "df.plot('date', '100_day_return')\n",
    "df.plot('date', '20_day_avg_daily_return')"
   ]
  },
  {
   "cell_type": "code",
   "execution_count": 42,
   "id": "e776a12d",
   "metadata": {},
   "outputs": [
    {
     "name": "stdout",
     "output_type": "stream",
     "text": [
      "0.536987921629426\n"
     ]
    }
   ],
   "source": [
    "print(df['iv_open'].mean())"
   ]
  },
  {
   "cell_type": "code",
   "execution_count": 4,
   "id": "13b921ac",
   "metadata": {},
   "outputs": [
    {
     "ename": "NameError",
     "evalue": "name 'passthrough' is not defined",
     "output_type": "error",
     "traceback": [
      "\u001b[0;31m---------------------------------------------------------------------------\u001b[0m",
      "\u001b[0;31mNameError\u001b[0m                                 Traceback (most recent call last)",
      "Cell \u001b[0;32mIn[4], line 79\u001b[0m\n\u001b[1;32m     76\u001b[0m \u001b[39mif\u001b[39;00m \u001b[39mnot\u001b[39;00m call_coef:\n\u001b[1;32m     77\u001b[0m     call_gap \u001b[39m=\u001b[39m \u001b[39m0\u001b[39m\n\u001b[0;32m---> 79\u001b[0m output \u001b[39m=\u001b[39m passthrough(spread_loss, min_tick, min_risk, min_strike_gap, is_credit, is_hedged, tenor, hp,\n\u001b[1;32m     80\u001b[0m                      call_coef\u001b[39m=\u001b[39mcall_coef, call_gap\u001b[39m=\u001b[39mcall_gap, call_inside\u001b[39m=\u001b[39mcall_inside, put_coef\u001b[39m=\u001b[39mput_coef,\n\u001b[1;32m     81\u001b[0m                      put_gap\u001b[39m=\u001b[39mput_gap, put_inside\u001b[39m=\u001b[39mput_inside, stop_loss\u001b[39m=\u001b[39mstop_loss, scalping\u001b[39m=\u001b[39mscalping,\n\u001b[1;32m     82\u001b[0m                      pom_threshold\u001b[39m=\u001b[39mpom_threshold, rr_threshold\u001b[39m=\u001b[39mrr_threshold, sequential\u001b[39m=\u001b[39msequential,\n\u001b[1;32m     83\u001b[0m                      r\u001b[39m=\u001b[39mr, days\u001b[39m=\u001b[39mdays, start\u001b[39m=\u001b[39mstart, end\u001b[39m=\u001b[39mend, vol_threshold\u001b[39m=\u001b[39mvol_threshold, lookback\u001b[39m=\u001b[39mlookback,\n\u001b[1;32m     84\u001b[0m                      vol_greater_than\u001b[39m=\u001b[39mvol_greater_than, use_max\u001b[39m=\u001b[39muse_max, iv_min_threshold\u001b[39m=\u001b[39miv_min_threshold,\n\u001b[1;32m     85\u001b[0m                      iv_max_threshold\u001b[39m=\u001b[39miv_max_threshold, iv_greater_than\u001b[39m=\u001b[39miv_greater_than,\n\u001b[1;32m     86\u001b[0m                      iv_less_than\u001b[39m=\u001b[39miv_less_than, sample\u001b[39m=\u001b[39msample, return_only\u001b[39m=\u001b[39mreturn_only, lrr_only\u001b[39m=\u001b[39mlrr_only,\n\u001b[1;32m     87\u001b[0m                      plot\u001b[39m=\u001b[39mplot)\n\u001b[1;32m     89\u001b[0m lrr \u001b[39m=\u001b[39m output[\u001b[39m0\u001b[39m]\n\u001b[1;32m     90\u001b[0m num_valid_days \u001b[39m=\u001b[39m output[\u001b[39m1\u001b[39m]\n",
      "\u001b[0;31mNameError\u001b[0m: name 'passthrough' is not defined"
     ]
    }
   ],
   "source": [
    "\"\"\"<---   begin tunable parameters   --->\"\"\"\n",
    "\"\"\"======================================\"\"\"\n",
    "# Underlying-specific parameters:\n",
    "# below is for SPX. For SPY, for example, min_tick = 0.01, spread_loss = 0.01, min_risk = 0.05\n",
    "\n",
    "# * the position, option, derived, default position prefixes to the below vars \n",
    "#   is just to identify where those vars should live in the class-based redesign.\n",
    "\n",
    "position_spread_loss = 0.15         # bid-ask spread losses on a trade. Quoted as a % of opening position value\n",
    "position_min_tick = 0.05            # [CONSTANT] the minimum spread tick for SPX options is $0.05; add to all long legs.\n",
    "position_min_risk = 0.02            # [CONSTANT] spot movement in % beyond 2 SD (for unhedged positions) in fudge_factor()\n",
    "position_min_strike_gap = 5         # [CONSTANT] minimum strike width of SPX options is 5\n",
    "\n",
    "# Position parameters:\n",
    "option_is_credit = True          # False for DEBIT (long), True for CEDIT (short)\n",
    "derived_is_hedged = False          # no hedging positions. naked short if credit else long only for debit\n",
    "option_tenor = 5                 # trading days until expiry, not calendar days\n",
    "option_hp = 50                    # holding period, inclusive of opening day 0 and closing day. hp=0 is o-c same-day\n",
    "position_stop_loss = -0.8           # risk return threshold to close a position below.\n",
    "position_scalping = False               # close a position upon reaching a defined level of profit\n",
    "position_pom_threshold = None       # Percent of Max possible return scalping threshold, supercedes\n",
    "default_position_rr_threshold = 1.5        # Risk Return threshold to close the position upon reaching\n",
    "default_position_sequential = True          # simulates a real environment where only 1 position will be open at a time\n",
    "default_position_r = 0.01                   # [CONSTANT] risk-free rate for BSM calculations\n",
    "default_position_days = {0, 1, 2, 3, 4}     # for filtering the opening trading day of the week. 0 = Mon, 4 = Fri\n",
    "\n",
    "# Optionally test on a subset of dates:\n",
    "default_position_full_df = True             # supersedes start, end, AND training set. Will use entire df.\n",
    "position_training_set = False        # supersedes start, end. automatically trains on past 11 years\n",
    "# start = '2020-03-27'       # [optional] 'YYYY-MM-DD' format date. used to narrow the DF to a specific range\n",
    "# end = '2022-03-01'         # [optional] end date for the narrowing range\n",
    "# start, end = '2008-01-01', '2009-01-01'  # bear run\n",
    "# start, end = '2020-03-27', '2021-08-27'  # bull run\n",
    "\n",
    "# call parameters:\n",
    "option_call_coef = '0.05 SD'       # relative distance OTM for strike. 'x' for constant multiplier, 'SD' for std dev.\n",
    "derived_call_gap = 40              # call strike gap; distance between long and short call strikes\n",
    "derived_call_inside = False        # True: force hedging strikes to be inside of coef. False: allow hedges further OTM\n",
    "# TODO: for optimization loop, omit the inside flag since it's redundant if you're trying all combinations.\n",
    "\n",
    "# put parameters:\n",
    "option_put_coef = '0.05 SD'        # relative distance OTM for strike. 'x' for constant multiplier, 'SD' for std dev.\n",
    "derived_put_gap = 50               # put strike gap; distance between long and short put strikes\n",
    "derived_put_inside = False         # force the furthest OTM strike (either long or short) is no further than coef OTM\n",
    "\n",
    "# Parameters for filtering realized volatility\n",
    "vol_threshold = 0.02          # threshold value for realized volatility, combines with the below two filters.\n",
    "lookback = 3               # trading days for the rolling realized volatility lookbacks\n",
    "vol_greater_than = True    # False changes the direction to real_vol.rolling() (<) vol_threshold from (>)\n",
    "use_max = True             # use max_vol (high-low) or real_vol (open-close)\n",
    "\n",
    "# Parameters for filtering implied volatility\n",
    "position_iv_min_threshold = 0.0    # lower bound for iv open\n",
    "position_iv_max_threshold = 0.60    # upper bound for iv open\n",
    "default_position_iv_greater_than = False     # if False, no MIN iv filtering will happen\n",
    "default_position_iv_less_than = True       # if False, no MAX iv filtering will happen\n",
    "\n",
    "# Misc. parameters:\n",
    "default_position_sample = False             # Random sample valid rows. 0 < sample < 1: % of df. sample > 1: n=sample.\n",
    "default_position_return_only = False        # just return the output instead of printing or plotting the data.\n",
    "default_position_lrr_only = False           # return only (lrr, num_winners) from passthrough()\n",
    "default_position_plot = True                # plot position performance (PoM and RR over HP + histograms for both)\n",
    "default_position_analyze = False            # run the linear regression and scatter plot analysis (analyze_results())\n",
    "default_position_silently = True            # used by find_max_losers() and get_true_lrr()\n",
    "default_position_return_tally = True        # used by find_max_losers()\n",
    "\"\"\"======================================\"\"\"\n",
    "\"\"\"<---    end tunable parameters    --->\"\"\"\n",
    "\n",
    "if training_set:\n",
    "    # disregard above values for start and end,\n",
    "    # force the testing to be on the following days:\n",
    "    start, end = '2006-01-01', '2018-01-01'\n",
    "if full_df:\n",
    "    # supercedes training_set and any start or end\n",
    "    # from above, forcing the entire df to be used.\n",
    "    start, end = None, None\n",
    "hp = min(hp, tenor)  # force hp <= tenor\n",
    "if not put_coef:\n",
    "    put_gap = 0\n",
    "if not call_coef:\n",
    "    call_gap = 0\n",
    "\n",
    "output = passthrough(spread_loss, min_tick, min_risk, min_strike_gap, is_credit, is_hedged, tenor, hp,\n",
    "                     call_coef=call_coef, call_gap=call_gap, call_inside=call_inside, put_coef=put_coef,\n",
    "                     put_gap=put_gap, put_inside=put_inside, stop_loss=stop_loss, scalping=scalping,\n",
    "                     pom_threshold=pom_threshold, rr_threshold=rr_threshold, sequential=sequential,\n",
    "                     r=r, days=days, start=start, end=end, vol_threshold=vol_threshold, lookback=lookback,\n",
    "                     vol_greater_than=vol_greater_than, use_max=use_max, iv_min_threshold=iv_min_threshold,\n",
    "                     iv_max_threshold=iv_max_threshold, iv_greater_than=iv_greater_than,\n",
    "                     iv_less_than=iv_less_than, sample=sample, return_only=return_only, lrr_only=lrr_only,\n",
    "                     plot=plot)\n",
    "\n",
    "lrr = output[0]\n",
    "num_valid_days = output[1]\n",
    "num_winners = output[2]\n",
    "p = output[3]\n",
    "b = output[4]\n",
    "c = output[5]\n",
    "pdf = output[6]\n",
    "expected_return = output[7]\n",
    "wager = output[8]\n",
    "subset_size = output[9]\n",
    "\n",
    "mean_move = pdf['spot_movement'].abs().mean()          # median is more useful than mean.    \n",
    "median_move = pdf['spot_movement'].abs().median()      # median is more useful than mean.\n",
    "\n",
    "# print(pdf.iloc[:10][['date', 'pvo', 'pvc', 'coef', 'true_return',\n",
    "#                      'pom_return', 'risk_return']])  # DAT\n",
    "\n",
    "# plt.hist(pdf['spot_movement'], bins=len(pdf)//2 + 5, histtype='stepfilled')\n",
    "# plt.axvline(mean_move, color='k', linestyle='dashed', linewidth=1)\n",
    "# plt.axvline(median_move, color='r', linestyle='solid', linewidth=1)\n",
    "# plt.show()\n",
    "\n",
    "print(pdf.iloc[-10:][['date', 'coef', 'risk_return', 'pvo', 'iv_open']])\n",
    "\n",
    "if analyze:\n",
    "    analyze_results(pdf)\n",
    "\n",
    "strat_name = get_strat_name(is_credit, call_coef, put_coef)\n",
    "max_consecutive_days = find_max_losers(pdf, silently=silently, return_tally=return_tally)\n",
    "# consecutive_failures = get_consecutive_failures(max_consecutive_days, duration, sequential=sequential)\n",
    "# true_lrr, bsm_lrr = get_true_lrr(pdf, wager, b, sequential=sequential, silently=silently)\n",
    "\n",
    "\n",
    "print('=====================================')\n",
    "print(f\"REPORT FOR {strat_name.upper()}:\")\n",
    "print('-------------------------------------')\n",
    "# print(consecutive_failures)\n",
    "print(f'\\n{100*num_valid_days/(subset_size - hp - lookback):.1f}% of days meet criteria ({num_valid_days})')\n",
    "print(f'hp = {hp} trading (~{round(7/5*hp)} calendar) days')\n",
    "print('-------------------------------------')\n",
    "print(f\"median spot movement:         {100 * median_move:.2f}%\")\n",
    "print(f\"mean spot movement:           {100 * mean_move:.2f}%\")\n",
    "print('-------------------------------------')\n",
    "print(f\"probability of a win:         {100 * p:.2f}%\")\n",
    "print(f\"payout for winners:           {100 * b:.2f}%\")\n",
    "print(f\"loss for losers:              {100 * c:.2f}%\")\n",
    "print(f'expected_return:              {100 * expected_return:.2f}%')\n",
    "print(f'wager:                        {100 * wager:.2f}%')\n",
    "print(f'wager expected_return:        {100 * wager * expected_return:.2f}%')\n",
    "print(f'average expected lrr:         {100 * lrr:,.0f}%')\n",
    "# print('-------------------------------------')\n",
    "# print(f'true computed lrr:            {100 * true_lrr:,.0f}%')\n",
    "# print(f'computed bsm lrr:             {100 * bsm_lrr:,.0f}%')\n",
    "# print(f'$100,000 at true lrr:        ${100000 * (1 + true_lrr):,.0f}')\n",
    "print('-------------------------------------')\n",
    "print(f\"mean iv open:                 {100 * pdf['iv_open'].mean():.2f}\")\n",
    "print(f\"median iv open:               {100 * pdf['iv_open'].median():.2f}\")\n",
    "print('-------------------------------------')\n",
    "print(f\"cumulative risk return:       {100 * pdf['risk_return'].sum():.2f}%\")\n",
    "print(f\"highest risk return:          {100 * pdf['risk_return'].max():.2f}%\")\n",
    "print(f\"mean risk return:             {100 * pdf['risk_return'].mean():.2f}%\")  # !NOTE: this == expected_return!\n",
    "print(f\"median risk return:           {100 * pdf['risk_return'].median():.2f}%\")\n",
    "print('=====================================')"
   ]
  },
  {
   "cell_type": "code",
   "execution_count": 17,
   "id": "ad873bd8",
   "metadata": {},
   "outputs": [],
   "source": [
    "import numpy as np"
   ]
  },
  {
   "cell_type": "code",
   "execution_count": 108,
   "id": "b2252ad7",
   "metadata": {},
   "outputs": [
    {
     "data": {
      "text/plain": [
       "(4, 4)"
      ]
     },
     "execution_count": 108,
     "metadata": {},
     "output_type": "execute_result"
    }
   ],
   "source": [
    "a = np.ones((4, 4))\n",
    "strike_idx = 2\n",
    "\n",
    "a[:, strike_idx] = 123.21\n",
    "# a[:, 4, 0] = 5.5\n",
    "a.shape"
   ]
  },
  {
   "cell_type": "code",
   "execution_count": 109,
   "id": "75831dbf",
   "metadata": {},
   "outputs": [
    {
     "data": {
      "text/plain": [
       "(4, 4, 4)"
      ]
     },
     "execution_count": 109,
     "metadata": {},
     "output_type": "execute_result"
    }
   ],
   "source": [
    "holding_period = 4\n",
    "a = np.repeat(a[:, :, np.newaxis], holding_period, axis=2)\n",
    "a.shape"
   ]
  },
  {
   "cell_type": "code",
   "execution_count": 110,
   "id": "2d55eb0c",
   "metadata": {},
   "outputs": [
    {
     "data": {
      "text/plain": [
       "array([[[  1.  ,   1.  ,   1.  ,   1.  ],\n",
       "        [  1.  ,   1.  ,   1.  ,   1.  ],\n",
       "        [123.21, 123.21, 123.21, 123.21],\n",
       "        [  1.  ,   1.  ,   1.  ,   1.  ]],\n",
       "\n",
       "       [[  1.  ,   1.  ,   1.  ,   1.  ],\n",
       "        [  1.  ,   1.  ,   1.  ,   1.  ],\n",
       "        [123.21, 123.21, 123.21, 123.21],\n",
       "        [  1.  ,   1.  ,   1.  ,   1.  ]],\n",
       "\n",
       "       [[  1.  ,   1.  ,   1.  ,   1.  ],\n",
       "        [  1.  ,   1.  ,   1.  ,   1.  ],\n",
       "        [123.21, 123.21, 123.21, 123.21],\n",
       "        [  1.  ,   1.  ,   1.  ,   1.  ]],\n",
       "\n",
       "       [[  1.  ,   1.  ,   1.  ,   1.  ],\n",
       "        [  1.  ,   1.  ,   1.  ,   1.  ],\n",
       "        [123.21, 123.21, 123.21, 123.21],\n",
       "        [  1.  ,   1.  ,   1.  ,   1.  ]]])"
      ]
     },
     "execution_count": 110,
     "metadata": {},
     "output_type": "execute_result"
    }
   ],
   "source": [
    "a"
   ]
  },
  {
   "cell_type": "code",
   "execution_count": 111,
   "metadata": {},
   "outputs": [
    {
     "data": {
      "text/plain": [
       "array([[123.21, 123.21, 123.21, 123.21],\n",
       "       [123.21, 123.21, 123.21, 123.21],\n",
       "       [123.21, 123.21, 123.21, 123.21],\n",
       "       [123.21, 123.21, 123.21, 123.21]])"
      ]
     },
     "execution_count": 111,
     "metadata": {},
     "output_type": "execute_result"
    }
   ],
   "source": [
    "a[:, strike_idx, :]"
   ]
  },
  {
   "cell_type": "code",
   "execution_count": 114,
   "id": "4b4699bb",
   "metadata": {},
   "outputs": [
    {
     "data": {
      "text/plain": [
       "array([[[123.21, 123.21, 123.21, 123.21],\n",
       "        [  1.  ,   1.  ,   1.  ,   1.  ]],\n",
       "\n",
       "       [[123.21, 123.21, 123.21, 123.21],\n",
       "        [  1.  ,   1.  ,   1.  ,   1.  ]],\n",
       "\n",
       "       [[123.21, 123.21, 123.21, 123.21],\n",
       "        [  1.  ,   1.  ,   1.  ,   1.  ]],\n",
       "\n",
       "       [[123.21, 123.21, 123.21, 123.21],\n",
       "        [  1.  ,   1.  ,   1.  ,   1.  ]]])"
      ]
     },
     "execution_count": 114,
     "metadata": {},
     "output_type": "execute_result"
    }
   ],
   "source": [
    "a[:, 2 :, :]"
   ]
  },
  {
   "cell_type": "code",
   "execution_count": 115,
   "id": "08943338",
   "metadata": {},
   "outputs": [
    {
     "data": {
      "text/plain": [
       "(4, 4, 4)"
      ]
     },
     "execution_count": 115,
     "metadata": {},
     "output_type": "execute_result"
    }
   ],
   "source": [
    "a.shape"
   ]
  },
  {
   "cell_type": "code",
   "execution_count": 129,
   "id": "ccb62252",
   "metadata": {},
   "outputs": [
    {
     "data": {
      "text/plain": [
       "(4, 3, 4)"
      ]
     },
     "execution_count": 129,
     "metadata": {},
     "output_type": "execute_result"
    }
   ],
   "source": [
    "a[:, :4, :].shape"
   ]
  },
  {
   "cell_type": "code",
   "execution_count": 126,
   "id": "763db388",
   "metadata": {},
   "outputs": [],
   "source": [
    "def set_to_5(a: np.ndarray) -> None:\n",
    "    a[:, :, :] = 5"
   ]
  },
  {
   "cell_type": "code",
   "execution_count": 127,
   "id": "84c88dcd",
   "metadata": {},
   "outputs": [],
   "source": [
    "set_to_5(a)"
   ]
  },
  {
   "cell_type": "code",
   "execution_count": 128,
   "id": "564212e4",
   "metadata": {},
   "outputs": [
    {
     "data": {
      "text/plain": [
       "array([[[5., 5., 5., 5.],\n",
       "        [5., 5., 5., 5.],\n",
       "        [5., 5., 5., 5.],\n",
       "        [5., 5., 5., 5.]],\n",
       "\n",
       "       [[5., 5., 5., 5.],\n",
       "        [5., 5., 5., 5.],\n",
       "        [5., 5., 5., 5.],\n",
       "        [5., 5., 5., 5.]],\n",
       "\n",
       "       [[5., 5., 5., 5.],\n",
       "        [5., 5., 5., 5.],\n",
       "        [5., 5., 5., 5.],\n",
       "        [5., 5., 5., 5.]],\n",
       "\n",
       "       [[5., 5., 5., 5.],\n",
       "        [5., 5., 5., 5.],\n",
       "        [5., 5., 5., 5.],\n",
       "        [5., 5., 5., 5.]]])"
      ]
     },
     "execution_count": 128,
     "metadata": {},
     "output_type": "execute_result"
    }
   ],
   "source": [
    "a"
   ]
  },
  {
   "cell_type": "code",
   "execution_count": 19,
   "id": "13cc6ba8",
   "metadata": {},
   "outputs": [],
   "source": []
  },
  {
   "cell_type": "code",
   "execution_count": 20,
   "id": "80d68b3c",
   "metadata": {},
   "outputs": [],
   "source": []
  },
  {
   "cell_type": "code",
   "execution_count": 21,
   "id": "5e11625d",
   "metadata": {},
   "outputs": [],
   "source": []
  },
  {
   "cell_type": "code",
   "execution_count": 22,
   "id": "1a8044d4",
   "metadata": {},
   "outputs": [],
   "source": []
  },
  {
   "cell_type": "code",
   "execution_count": 23,
   "id": "40a68ff3",
   "metadata": {},
   "outputs": [],
   "source": []
  },
  {
   "cell_type": "code",
   "execution_count": 24,
   "id": "b7934792",
   "metadata": {},
   "outputs": [],
   "source": []
  },
  {
   "cell_type": "code",
   "execution_count": 25,
   "id": "cf9a601d",
   "metadata": {},
   "outputs": [],
   "source": []
  },
  {
   "cell_type": "code",
   "execution_count": 26,
   "id": "55802b95",
   "metadata": {},
   "outputs": [],
   "source": []
  },
  {
   "cell_type": "code",
   "execution_count": 27,
   "id": "113c7e90",
   "metadata": {},
   "outputs": [],
   "source": []
  },
  {
   "cell_type": "code",
   "execution_count": 28,
   "id": "48722a01",
   "metadata": {},
   "outputs": [],
   "source": []
  },
  {
   "cell_type": "code",
   "execution_count": 29,
   "id": "935566ed",
   "metadata": {},
   "outputs": [],
   "source": []
  },
  {
   "cell_type": "code",
   "execution_count": 30,
   "id": "89f1776c",
   "metadata": {},
   "outputs": [],
   "source": []
  },
  {
   "cell_type": "code",
   "execution_count": 31,
   "id": "da9dbaf5",
   "metadata": {},
   "outputs": [],
   "source": []
  },
  {
   "cell_type": "code",
   "execution_count": 32,
   "id": "c951661c",
   "metadata": {},
   "outputs": [],
   "source": [
    "\n"
   ]
  },
  {
   "cell_type": "code",
   "execution_count": 33,
   "id": "9cc74998",
   "metadata": {},
   "outputs": [],
   "source": [
    "def print_df(df, is_credit):\n",
    "    print(df[['winner', 'open_position_value', 'close_position_value', 'bsm_return']])\n",
    "#     if is_credit:\n",
    "        # print(df[['date', 'winner', 'put_k', 'call_k', 'end_iv']])\n",
    "#         print(df[['date', 'spot_movement']])\n",
    "\n",
    "#     else:\n",
    "#         print(df[['open_position_value', 'min_position_value', 'close_position_value', 'bsm_return']])\n",
    "#         print(df[['date', 'open_position_value']])\n"
   ]
  },
  {
   "cell_type": "code",
   "execution_count": null,
   "id": "24bec740",
   "metadata": {},
   "outputs": [],
   "source": []
  },
  {
   "cell_type": "code",
   "execution_count": null,
   "id": "70535094",
   "metadata": {},
   "outputs": [],
   "source": []
  },
  {
   "cell_type": "code",
   "execution_count": 256,
   "id": "7197ab00",
   "metadata": {},
   "outputs": [],
   "source": [
    "# plot a subset of the df\n",
    "subset = get_subset('2007-01-01', '2010-03-01')\n",
    "subset.plot('date', 'open')\n",
    "subset.plot('date', 'iv_open')\n",
    "subset.plot('date', 'close_close')\n",
    "subset.plot('date', 'max_vol')"
   ]
  },
  {
   "cell_type": "code",
   "execution_count": 8,
   "id": "3f851369",
   "metadata": {},
   "outputs": [
    {
     "name": "stdout",
     "output_type": "stream",
     "text": [
      "551\n",
      "mean movement:          ±5.74%\n",
      "median movement:        ±5.01%\n"
     ]
    }
   ],
   "source": [
    "# find the mean and median absolute movement over a period of time\n",
    "duration = 30\n",
    "pdf = df[:]\n",
    "pdf['duration_move'] = (pdf['close'].shift(-duration) - pdf['open']) / pdf['open']\n",
    "\n",
    "# optional filters below...\n",
    "pdf = pdf[pdf['iv_open'] >= 0.25]\n",
    "pdf = pdf[pdf['iv_open'] < 0.40]\n",
    "pdf.reset_index(inplace=True, drop=True)\n",
    "print(len(pdf))\n",
    "\n",
    "# pdf.plot('date', 'duration_move')\n",
    "mean_move = pdf['duration_move'].abs().mean()\n",
    "median_move = pdf['duration_move'].abs().median()\n",
    "\n",
    "print(f\"mean movement:          ±{100 * mean_move:.2f}%\")  # show the intraday open-close movement\n",
    "print(f\"median movement:        ±{100 * median_move:.2f}%\")  # show the intraday open-close movement\n"
   ]
  },
  {
   "cell_type": "code",
   "execution_count": null,
   "id": "4191d8d2",
   "metadata": {},
   "outputs": [],
   "source": []
  },
  {
   "cell_type": "code",
   "execution_count": null,
   "id": "ff12082f",
   "metadata": {},
   "outputs": [],
   "source": []
  },
  {
   "attachments": {},
   "cell_type": "markdown",
   "id": "6611a4fb",
   "metadata": {},
   "source": [
    "# assumptions\n",
    "1. the max loss will occur at one of (open, hp)\n",
    "1. special things tend to happen around the stikes or the extreme spot movements\n",
    "1. the relative strike that yields the max loss/return for one position should apply to all others (meaning they don't need the same monte carlo simulation)\n",
    "1. identifying positive entry criteria can prevent needless calculation on many inputs that don't match\n",
    "1. if the max value occurs at close or deep itm, sigma is not significantly important"
   ]
  },
  {
   "cell_type": "code",
   "execution_count": 75,
   "id": "8aefec21",
   "metadata": {},
   "outputs": [],
   "source": [
    "import numpy as np\n",
    "import math\n",
    "import random\n",
    "from scipy.stats import norm\n",
    "import matplotlib.pyplot as plt\n",
    "%matplotlib inline\n",
    "\n",
    "def price_call(s, k, t, sigma, r = 0.04) -> float:\n",
    "    # from Hull p. 335, fig. (15.20)\n",
    "    d1 = get_d1(s, k, r, sigma, t)\n",
    "    d2 = get_d2(d1, sigma, t)\n",
    "    call = s * norm.cdf(d1) - k * math.exp(-r * t) * norm.cdf(d2)\n",
    "    return max(0, call)\n",
    "\n",
    "\n",
    "def price_put(s, k, t, sigma, r = 0.04) -> float:\n",
    "    # from Hull p. 335, fig (15.21)\n",
    "    d1 = get_d1(s, k, r, sigma, t)\n",
    "    d2 = get_d2(d1, sigma, t)\n",
    "    put = k * math.exp(-r * t) * norm.cdf(-d2) - s * norm.cdf(-d1)\n",
    "    return max(0, put)\n",
    "\n",
    "\n",
    "def get_d1(spot, strike, r, sigma, t) -> float:\n",
    "    # BUG: runtime warning from numpy division by zero.\n",
    "    return ((math.log(spot / strike) + (r + sigma ** 2 / 2) * t) /\n",
    "            (sigma * math.sqrt(t) + 0.001))\n",
    "\n",
    "\n",
    "def get_d2(d1, sigma, t) -> float:\n",
    "    return d1 - sigma * math.sqrt(t)"
   ]
  },
  {
   "cell_type": "code",
   "execution_count": 86,
   "id": "af5050b8",
   "metadata": {},
   "outputs": [
    {
     "name": "stdout",
     "output_type": "stream",
     "text": [
      "starting:\t 201.01429309846912\n",
      "max loss:\t 514.0696798859478 at: 4700 sigma: 0.015172034242919318 tenor: 0.09445303417103673\n"
     ]
    },
    {
     "data": {
      "image/png": "[encoded data removed]",
      "text/plain": [
       "<Figure size 640x480 with 1 Axes>"
      ]
     },
     "metadata": {},
     "output_type": "display_data"
    }
   ],
   "source": [
    "#  max loss calculations from 50 to 1M simulations\n",
    "#        50 max loss:\t 467.08606283895995 at: 3329 sigma: 0.21633739752030073 tenor: 0.01812798254545261\n",
    "#       500 max loss:\t 496.42226533867824 at: 3300 sigma: 0.23530193248374492 tenor: 0.01602528110883155\n",
    "#     1_000 max loss:    497.87148080167776 at: 3300 sigma: 0.08433989709071459 tenor: 0.006963519079320686\n",
    "#    10_000 max loss:    495.8129332135243 at: 3302 sigma: 0.047132041449180095 tenor: 0.007329546123287335\n",
    "#   100_000 max loss:\t 498.22250123245635 at: 3300 sigma: 0.20251855260460797 tenor: 0.004769126527463039\n",
    "# 1_000_000 max loss:\t 498.79980781633026 at: 3300 sigma: 0.16212522956199468 tenor: 0.0011605324521117412\n",
    "\n",
    "k1, k2, hp = 4000, 4000, 25\n",
    "downswing, upswing = 3300, 4700\n",
    "value = starting = price_call(4000, k1, hp/252, 0.2) + price_put(4000, k2, hp/252, 0.2)\n",
    "ml_spot, ml_sigma, ml_tenor = 4000, 0.2, 25\n",
    "for _ in range(5000):\n",
    "    t = random.random() * hp/252 + 0.00001\n",
    "    sigma = random.random() * 32 / 100\n",
    "    spot = random.randint(downswing, upswing)\n",
    "    v = price_call(spot, k1, t, sigma) + price_put(spot, k2, t, sigma)\n",
    "    plt.scatter(spot, v)\n",
    "    if v > value:\n",
    "        value = v\n",
    "        ml_spot, ml_sigma, ml_tenor = spot, sigma, t\n",
    "print(\"starting:\\t\", starting)\n",
    "print(\"max loss:\\t\", value - starting, \"at:\", ml_spot, \"sigma:\", ml_sigma, \"tenor:\", ml_tenor)\n",
    "plt.title(f\"spot vs position value\")\n",
    "plt.show()"
   ]
  },
  {
   "cell_type": "code",
   "execution_count": 1185,
   "id": "c89301d5",
   "metadata": {},
   "outputs": [
    {
     "data": {
      "text/plain": [
       "'78'"
      ]
     },
     "execution_count": 1185,
     "metadata": {},
     "output_type": "execute_result"
    }
   ],
   "source": [
    "def estimate_comp_time():\n",
    "    # * Estimate the computation time for the optimization\n",
    "    #   loop with the below parameters.\n",
    "    # * this isn't perfect, since, for example, if not scalping,\n",
    "    #   pom_threshold and rr_threshold are useless and not used.\n",
    "    # parameters:\n",
    "    is_credit = 1            # (bool)\n",
    "    is_hedged = 1            # (bool)\n",
    "    tenor = 1               # (0, 60)\n",
    "    hp = 1                  # (0, 60)\n",
    "    call_coef = 25           # (0.95, 1.2, 0.01)\n",
    "    put_coef = 1            # (0.75, 1.0, 0.01)\n",
    "    call_gap = 15            # (5, 50, 5)\n",
    "    put_gap = 1             # (5, 50, 5)\n",
    "    vol_threshold = 5       # (0, 5, 0.25)\n",
    "    lookback = 5            # (1, 15, 1)\n",
    "    vol_greater_than = 1     # (bool)\n",
    "    use_max = 1              # (bool)\n",
    "    iv_min_threshold = 1    # (0, 0.30, 0.025)\n",
    "    iv_max_threshold = 1    # (0.01, 0.40, 0.025)\n",
    "    iv_greater_than = 1      # (bool)\n",
    "    iv_less_than = 1         # (bool)\n",
    "    scalping = 1             # (bool)\n",
    "    pom_threshold = 1       # (0.15, 0.90, 0.05)\n",
    "    rr_threshold = 1        # (0.15, 2.0, 0.05)\n",
    "    \n",
    "    passthrough_time = 0.5\n",
    "    comp_time_s = (passthrough_time * is_credit * is_hedged *\n",
    "                   tenor * hp * call_coef * put_coef * call_gap *\n",
    "                   put_gap * vol_threshold * lookback * vol_greater_than *\n",
    "                   use_max * iv_min_threshold * iv_max_threshold * iv_greater_than *\n",
    "                   iv_less_than * scalping * pom_threshold * rr_threshold)\n",
    "    comp_time_m = comp_time_s / 60\n",
    "    comp_time_h = comp_time_m / 60\n",
    "    comp_time_d = comp_time_h / 24\n",
    "    return f'{comp_time_m:,.0f}'\n",
    "\n",
    "estimate_comp_time()"
   ]
  },
  {
   "cell_type": "code",
   "execution_count": 737,
   "id": "fb42813a",
   "metadata": {},
   "outputs": [
    {
     "data": {
      "text/plain": [
       "3750.0"
      ]
     },
     "execution_count": 737,
     "metadata": {},
     "output_type": "execute_result"
    }
   ],
   "source": [
    "# taken from the `cds` notebook threshold_optimize():\n",
    "30 * 10 * 25 * 10 * 0.0512"
   ]
  },
  {
   "cell_type": "code",
   "execution_count": null,
   "id": "86edb492",
   "metadata": {},
   "outputs": [],
   "source": [
    "# output_df = pd.DataFrame(columns=['duration', 'coef', 'lookback', 'pcs_threshold', 'b'])\n",
    "# print(list(output_df))\n",
    "# find the max for each threshold\n",
    "\n",
    "def optimize():\n",
    "    # NOTE: this calculation takes ~5-10 minutes to run\n",
    "    opt_duration = 0\n",
    "    opt_coef = 0\n",
    "    opt_lookback = 0\n",
    "    opt_threshold = 0\n",
    "    opt_b = 0\n",
    "    opt_num_winners = 0\n",
    "    max_output = 0\n",
    "    for duration in range(1, 10):\n",
    "        for coef in range(990, 1015, 1):\n",
    "            coef /= 1000\n",
    "            b = estimate_b(duration, coef)\n",
    "            for threshold in range(1, 20):\n",
    "                threshold /= 10\n",
    "                # originally (10, 20)\n",
    "                # sigma threshold\n",
    "                # before changing thresholds, append the max output from the previous threshold\n",
    "                for lookback in range(0, 10):\n",
    "                    output = passthrough(duration, coef, b, lookback, threshold)\n",
    "                    lrr = output[0]\n",
    "                    num_winners = output[1]\n",
    "                    if lrr > max_output:\n",
    "#                         print(output)\n",
    "                        max_output = lrr\n",
    "                        opt_duration = duration\n",
    "                        opt_coef = coef\n",
    "                        opt_lookback = lookback\n",
    "                        opt_threshold = threshold\n",
    "                        opt_b = b\n",
    "                        opt_num_winners = num_winners\n",
    "    print(f'optimal duration: {opt_duration}')\n",
    "    print(f'optimal coef: {opt_coef}')\n",
    "    print(f'optimal lookback: {opt_lookback}')\n",
    "    print(f'optimal threshold: {opt_threshold}')\n",
    "    print(f'optimal b: {opt_b}')\n",
    "    print(f'optimal num_winners: {opt_num_winners}')\n",
    "    print(f'lrr: {max_output}')"
   ]
  },
  {
   "cell_type": "code",
   "execution_count": null,
   "id": "0ccabc55",
   "metadata": {},
   "outputs": [],
   "source": []
  }
 ],
 "metadata": {
  "kernelspec": {
   "display_name": "venv",
   "language": "python",
   "name": "python3"
  },
  "language_info": {
   "codemirror_mode": {
    "name": "ipython",
    "version": 3
   },
   "file_extension": ".py",
   "mimetype": "text/x-python",
   "name": "python",
   "nbconvert_exporter": "python",
   "pygments_lexer": "ipython3",
   "version": "3.11.0rc1"
  },
  "vscode": {
   "interpreter": {
    "hash": "3f90a1961fd23f87366ac199cd918c558d9ba14ba6eca520e326eeca7720a6e9"
   }
  }
 },
 "nbformat": 4,
 "nbformat_minor": 5
}
