{
 "cells": [
  {
   "cell_type": "markdown",
   "id": "3c66033f",
   "metadata": {},
   "source": [
    "A multipurpose notebook for requesting all types of historical data. It can request new data or update existing DFs without the need to re-inputting parameters. It will request data based on inputted (or deciphered from the filename, for updates) parameters such as bar_size, duration, include IV data, use regular trading hours, etc."
   ]
  },
  {
   "cell_type": "raw",
   "id": "373db9bc",
   "metadata": {},
   "source": [
    "for a complete list of valid bar size and duration combinations, see:\n",
    "https://interactivebrokers.github.io/tws-api/historical_limitations.html"
   ]
  },
  {
   "cell_type": "code",
   "execution_count": 1,
   "id": "7d2a298e",
   "metadata": {},
   "outputs": [],
   "source": [
    "import matplotlib.pyplot as plt\n",
    "import pandas_market_calendars as pmc\n",
    "import scipy.stats as stats\n",
    "%matplotlib inline\n",
    "import pandas as pd\n",
    "import numpy as np\n",
    "import math\n",
    "import re\n",
    "import warnings\n",
    "from datetime import datetime\n",
    "warnings.filterwarnings('ignore')\n",
    "pd.set_option(\"display.max_rows\", 50, \"display.max_columns\", 10)\n",
    "from ib_insync import *\n",
    "util.startLoop()"
   ]
  },
  {
   "cell_type": "code",
   "execution_count": 2,
   "id": "2e799e3e",
   "metadata": {},
   "outputs": [
    {
     "data": {
      "text/plain": [
       "<IB connected to 127.0.0.1:4002 clientId=2>"
      ]
     },
     "execution_count": 2,
     "metadata": {},
     "output_type": "execute_result"
    }
   ],
   "source": [
    "PORT = 4002  # or 7497\n",
    "ib = IB()\n",
    "ib.connect('127.0.0.1', PORT, clientId=2)"
   ]
  },
  {
   "cell_type": "code",
   "execution_count": 3,
   "id": "1a61c148",
   "metadata": {},
   "outputs": [],
   "source": [
    "# MANDATORY input\n",
    "is_update = False\n"
   ]
  },
  {
   "cell_type": "code",
   "execution_count": 21,
   "id": "06dfabb4",
   "metadata": {},
   "outputs": [],
   "source": [
    "INDICES = {'SPX', 'VIX'}\n",
    "file_name = '1day_spx_max_iv_rth.pkl'  # starts after ..dfs/ and should include .pkl; only used for updates\n",
    "recalculate_columns = True  # only for 1 day bars where customs columns are calculated.\n",
    "\n",
    "# below is only used for original requests. It is ignored for updates, which instead decode the file name.\n",
    "underlying_symbol = 'SPX'\n",
    "underlying_type = 'IND'  # STK or IND\n",
    "underlying_exchange = 'CBOE' or 'SMART'\n",
    "get_iv_data  = True  # !! This often reduces rows because IV data typically doesn't go as far back as price data!\n",
    "use_vix = True  # only for SPX, if grabbing IV data for SPX, use the VIX index itself.\n",
    "duration = 'MAX'  # can be: # S, # D, # W, # M, # Y or 'MAX' for all available data\n",
    "bar_size = '1 min'  # can be: # min(s), # hr, # day, etc.\n",
    "use_rth = True  # False is useful for analyzing massive price swings outside RTH."
   ]
  },
  {
   "cell_type": "code",
   "execution_count": 24,
   "id": "7a326971",
   "metadata": {},
   "outputs": [],
   "source": [
    "# load all the helper functions by running this cell\n",
    "\n",
    "def get_earliest_timestamp(underlying, get_iv_data, use_rth, use_vix, vix=None) -> datetime:\n",
    "    # grab earliest stamp using:\n",
    "    # https://interactivebrokers.github.io/tws-api/head_timestamp.html#reqHeadTimeStamp\n",
    "    trade_earliest = ib.reqHeadTimeStamp(underlying, 'TRADES', use_rth)\n",
    "    if underlying.symbol.upper() == 'SPX' and get_iv_data and use_vix:\n",
    "        # find the earliest available VIX timestamp\n",
    "        iv_earliest = ib.reqHeadTimeStamp(vix, 'TRADES', use_rth)\n",
    "    elif get_iv_data:\n",
    "        # find the earliest available OPTION_IMPLIED_VOLATILITY timestamp\n",
    "        iv_earliest = ib.reqHeadTimeStamp(underlying, 'OPTION_IMPLIED_VOLATILITY', use_rth)\n",
    "    else:\n",
    "        # No IV data requested, just return the earliest underlying timestamp\n",
    "        return trade_earliest\n",
    "    return max(trade_earliest, iv_earliest)\n",
    "\n",
    "\n",
    "def calc_duration(earliest_timestamp) -> str:\n",
    "    # calculate a duration in years for which data will be requested based on the earliest timestamp\n",
    "    current = datetime.now().year\n",
    "    earliest = earliest_timestamp.year\n",
    "    return f'{(current - earliest) + 1} Y'\n",
    "\n",
    "\n",
    "def add_back_space(string):\n",
    "    return re.sub(r\"([0-9]+(\\.[0-9]+)?)\",r\" \\1 \", string).strip()\n",
    "\n",
    "\n",
    "def decipher_filename(filename) -> tuple:\n",
    "    if not filename:\n",
    "        print('Enter a valid filename.')\n",
    "    filename = filename.split('.')[0]\n",
    "    output = filename.split('_')\n",
    "    output_length = len(output)\n",
    "    bar_size = add_back_space(output[0])\n",
    "    underlying_symbol = output[1].upper()\n",
    "    duration = add_back_space(output[2])\n",
    "    use_vix = False\n",
    "    if output_length >= 4:\n",
    "        if output[3] == 'iv':\n",
    "            get_iv_data = True\n",
    "            if underlying_symbol in INDICES:\n",
    "                use_vix = True\n",
    "        else:\n",
    "            get_iv_data = False\n",
    "    else:\n",
    "        get_iv_data = False\n",
    "    if output_length >= 5:\n",
    "        if output[4] == 'rth':\n",
    "            use_rth = True\n",
    "        else:\n",
    "            use_rth = False\n",
    "    else:\n",
    "        use_rth = False\n",
    "    if underlying_symbol in INDICES:\n",
    "        underlying_type = 'IND'\n",
    "        underlying_exchange = 'CBOE'\n",
    "    else:\n",
    "        underlying_type = 'STK'\n",
    "        underlying_exchange = 'SMART'\n",
    "\n",
    "    return (bar_size, underlying_symbol, underlying_type,\n",
    "            underlying_exchange, duration, get_iv_data, use_rth, use_vix)\n",
    "\n",
    "\n",
    "def get_missing_days(existing_df):\n",
    "    try:\n",
    "        last_known_date = existing_df.iloc[-1]['date'].date()\n",
    "    except AttributeError:\n",
    "        last_known_date = existing_df.iloc[-1]['date']\n",
    "    today = datetime.now().date()\n",
    "    days_missing = (today - last_known_date).days  # total days, not trading days\n",
    "    today = str(today).replace('-', '')\n",
    "    end_date_time = f\"{today} 24:00:00 EST\"\n",
    "    days_missing = f\"{days_missing} D\"\n",
    "    print(f'last date in df: {last_known_date}, today: {today} ({days_missing} days)')\n",
    "    return days_missing, end_date_time\n",
    "\n",
    "\n",
    "def show(bar_size, underlying_symbol, underlying_type, underlying_exchange,\n",
    "         duration, get_iv_data, use_rth, use_vix, end_date_time=False, use_date_df=False):\n",
    "    print('----------------------------------')\n",
    "    print(f'bar_size:             {bar_size}')\n",
    "    print(f'underlying_symbol:    {underlying_symbol}')\n",
    "    print(f'underlying_type:      {underlying_type}')\n",
    "    print(f'underlying_exchange:  {underlying_exchange}')\n",
    "    print(f'duration:             {duration}')\n",
    "    print(f'get_iv_data:          {get_iv_data}')\n",
    "    print(f'use_rth:              {use_rth}')\n",
    "    print(f'use_vix:              {use_vix}')\n",
    "    print(f'end_date_time:        {end_date_time}')\n",
    "    print(f'use_date_df:          {use_date_df}')\n",
    "    print('----------------------------------')\n",
    "\n",
    "\n",
    "def recalculate_column_values(df, bar_size):\n",
    "    df['prev_close'] = df['close'].shift(1)\n",
    "    df['iv_prev_close'] = df['iv_close'].shift(1)\n",
    "\n",
    "    # open-close movement\n",
    "    df['open_close'] = (df['close'] - df['open']) / df['open']  # former 'movement'; intraday movement\n",
    "    df['close_close'] = (df['prev_close'] - df['close']) / df['prev_close']  # interday movement\n",
    "    df['close_open'] = (df['open'] - df['prev_close']) / df['prev_close']  # overnight movement\n",
    "\n",
    "    df['iv_open_close'] = (df['iv_close'] - df['iv_open']) / df['iv_open']  # former 'movement'; intraday movement\n",
    "    df['iv_close_close'] = (df['iv_prev_close'] - df['iv_close']) / df['iv_prev_close']  # interday movement\n",
    "    df['iv_close_open'] = (df['iv_open'] - df['iv_prev_close']) / df['iv_prev_close']  # overnight movement\n",
    "\n",
    "    # realized vol taken from this formula: https://www.realvol.com/VolFormula.htm\n",
    "    if bar_size == '1 min':\n",
    "        df['real_vol'] = np.sqrt(252/(1/390) * np.log(df['open'] / df['close']) ** 2)\n",
    "        df['previous_vol'] = df['real_vol'].shift(1)\n",
    "        df['max_vol'] = np.sqrt(252/(1/390) * np.log(df['high'] / df['low']) ** 2)\n",
    "    elif bar_size == '1 hour':\n",
    "        df['real_vol'] = np.sqrt(252/(1/6.5) * np.log(df['open'] / df['close']) ** 2)\n",
    "        df['previous_vol'] = df['real_vol'].shift(1)\n",
    "        df['max_vol'] = np.sqrt(252/(1/6.5) * np.log(df['high'] / df['low']) ** 2)\n",
    "    elif bar_size == '1 day':\n",
    "        df['real_vol'] = np.sqrt(252 * np.log(df['open'] / df['close']) ** 2)\n",
    "        df['previous_vol'] = df['real_vol'].shift(1)\n",
    "        df['max_vol'] = np.sqrt(252 * np.log(df['high'] / df['low']) ** 2)\n",
    "    else:\n",
    "        print(f'unknown bar_size. manually recalculate real_vol, previous_vol, max_vol based on bar_size of {bar_size}')\n",
    "\n",
    "    df['max_up'] = (df['high'] - df['open']) / df['open']\n",
    "    df['max_down'] = (df['low'] - df['open']) / df['open']\n",
    "\n",
    "    df['peak_move'] = (((df['max_up'] > df['max_down'].abs()) * df['max_up']) + \n",
    "                       ((df['max_up'] <= df['max_down'].abs()) * df['max_down']))\n",
    "\n",
    "    df['day'] = df['date'].astype('datetime64[ns]').dt.dayofweek\n",
    "    return df\n"
   ]
  },
  {
   "cell_type": "code",
   "execution_count": 128,
   "id": "f63cd9b8",
   "metadata": {},
   "outputs": [],
   "source": [
    "# create the underlying contract objects based on the above inputs\n",
    "if underlying_type == 'STK':\n",
    "    underlying = Stock(underlying_symbol, underlying_exchange, 'USD')\n",
    "elif underlying_type == 'IND':\n",
    "    underlying = Index(underlying_symbol, underlying_exchange)\n",
    "    if underlying_symbol == 'SPX' and get_iv_data and use_vix:\n",
    "        vix = Index('VIX', 'CBOE')\n",
    "else:\n",
    "    raise ValueError(\"INVALID INPUT(S)!\")"
   ]
  },
  {
   "cell_type": "code",
   "execution_count": 23,
   "id": "bd10db5b",
   "metadata": {},
   "outputs": [
    {
     "name": "stdout",
     "output_type": "stream",
     "text": [
      "WARNING: MAX DURATION WITH 1 MIN DATA DETECTED. THIS MAY TAKE A LONG TIME!\n",
      "spx earliest 2004-03-04 14:30:00\n",
      "vix earliest 2005-10-03 13:30:00\n",
      "max earlierst 2005-10-03 13:30:00\n"
     ]
    }
   ],
   "source": [
    "if not is_update:\n",
    "    # get today's date for `endDateTime`\n",
    "    today = str(datetime.now().date()).replace('-', '')\n",
    "    end_date_time = f\"{today} 24:00:00 EST\"\n",
    "\n",
    "    stripped_duration = duration.replace(' ', '')  # max is unchanged, which is as intended.\n",
    "    stripped_barsize = bar_size.replace(' ', '')\n",
    "    iv = '_iv' if get_iv_data else ''\n",
    "    rth = '_rth' if use_rth else '_nonrth'\n",
    "\n",
    "    if duration == 'MAX':\n",
    "        if bar_size == '1 min':\n",
    "            print(\"WARNING: MAX DURATION WITH 1 MIN DATA DETECTED. THIS MAY TAKE A LONG TIME!\")\n",
    "        if use_vix:\n",
    "            earliest_timestamp = get_earliest_timestamp(underlying, get_iv_data, use_rth, use_vix, vix)\n",
    "        else:\n",
    "            earliest_timestamp = get_earliest_timestamp(underlying, get_iv_data, use_rth, use_vix)\n",
    "        duration = calc_duration(earliest_timestamp)\n",
    "\n",
    "    file_name = f'{stripped_barsize}_{underlying_symbol}_{stripped_duration}{iv}{rth}.pkl'.lower()"
   ]
  },
  {
   "cell_type": "code",
   "execution_count": 25,
   "id": "9ed4f77e",
   "metadata": {},
   "outputs": [
    {
     "name": "stdout",
     "output_type": "stream",
     "text": [
      "----------------------------------\n",
      "bar_size:             1 min\n",
      "underlying_symbol:    SPX\n",
      "underlying_type:      IND\n",
      "underlying_exchange:  CBOE\n",
      "duration:             18 Y\n",
      "get_iv_data:          True\n",
      "use_rth:              True\n",
      "use_vix:              True\n",
      "end_date_time:        20220308 24:00:00 EST\n",
      "use_date_df:          True\n",
      "----------------------------------\n"
     ]
    }
   ],
   "source": [
    "# Flag to either update a df to True to ignore all flags below and instead decipher from the filename\n",
    "# set the parameters here and then just run all the below cells sequentially.\n",
    "\n",
    "if is_update:\n",
    "    existing_df = pd.read_pickle(f'../../dfs/{file_name}')\n",
    "    existing_df.info()\n",
    "    parameters = decipher_filename(file_name)\n",
    "    bar_size = parameters[0]\n",
    "    underlying_symbol = parameters[1]\n",
    "    underlying_type = parameters[2]\n",
    "    underlying_exchange = parameters[3]\n",
    "    duration = parameters[4]\n",
    "    get_iv_data = parameters[5]\n",
    "    use_rth = parameters[6]\n",
    "    use_vix = parameters[7]\n",
    "    duration, end_date_time = get_missing_days(existing_df)\n",
    "\n",
    "\n",
    "if 'min' in bar_size or 'hr' in bar_size:\n",
    "    use_date_df = True\n",
    "else:\n",
    "    use_date_df = False\n",
    "\n",
    "show(bar_size, underlying_symbol, underlying_type, underlying_exchange,\n",
    "     duration, get_iv_data, use_rth, use_vix, end_date_time, use_date_df)"
   ]
  },
  {
   "cell_type": "code",
   "execution_count": 26,
   "id": "08ea18f0",
   "metadata": {
    "scrolled": true
   },
   "outputs": [
    {
     "name": "stdout",
     "output_type": "stream",
     "text": [
      "            date   open   high    low  close  volume  average  barCount\n",
      "0     2005-10-03  12.37  12.62  11.98  12.43     0.0      0.0      1556\n",
      "1     2005-10-04  12.50  13.14  12.11  13.11     0.0      0.0      1556\n",
      "2     2005-10-05  13.15  14.55  12.97  14.54     0.0      0.0      1556\n",
      "3     2005-10-06  14.53  15.63  14.04  15.07     0.0      0.0      1556\n",
      "4     2005-10-07  14.56  14.82  14.30  14.54     0.0      0.0      1556\n",
      "...          ...    ...    ...    ...    ...     ...      ...       ...\n",
      "4115  2022-03-02  34.20  34.41  30.12  30.74     0.0      0.0      2565\n",
      "4116  2022-03-03  30.52  32.01  29.31  30.48     0.0      0.0      2442\n",
      "4117  2022-03-04  31.90  34.65  31.47  31.98     0.0      0.0      2633\n",
      "4118  2022-03-07  35.88  36.55  32.59  36.45     0.0      0.0      2651\n",
      "4119  2022-03-08  36.19  37.52  32.78  34.12     0.0      0.0      2053\n",
      "\n",
      "[4120 rows x 8 columns]\n"
     ]
    }
   ],
   "source": [
    "# pull 1 D bars to get the valid trading days.\n",
    "if use_date_df:\n",
    "    bars = ib.reqHistoricalData(underlying, endDateTime=end_date_time, durationStr=duration,\n",
    "                                barSizeSetting='1 day',whatToShow='TRADES', useRTH=use_rth)\n",
    "    date_df = pd.DataFrame(bars)\n",
    "    print(date_df)"
   ]
  },
  {
   "cell_type": "code",
   "execution_count": 61,
   "id": "87309985",
   "metadata": {
    "scrolled": false
   },
   "outputs": [
    {
     "name": "stdout",
     "output_type": "stream",
     "text": [
      "getting VIX TRADES data\n",
      "100.00% complete with IV data (4119 of 4120), [20220308 24:00:00 EST]\r"
     ]
    }
   ],
   "source": [
    "\"\"\"\n",
    "request the underlying price and IV historical data\n",
    "\"\"\"\n",
    "# DO NOT PROCESS THE BARS HERE!!! LEAVE THEM AS PYTHON LISTS, THEN CLEAN/MODIFY IN SUBSEQUENT CELLS!\n",
    "date_df_size = len(date_df)\n",
    "\n",
    "if use_date_df:\n",
    "    price_bars = []\n",
    "    for i, date in enumerate(date_df['date']):\n",
    "        i += 1\n",
    "        date = str(date).replace('-', '')\n",
    "        date = f\"{date} 24:00:00 EST\"\n",
    "        bars = ib.reqHistoricalData(underlying, endDateTime=date, durationStr='1 D',\n",
    "                                    barSizeSetting=bar_size ,whatToShow='TRADES', useRTH=use_rth)\n",
    "        ib.sleep(3.5)  # avoid exceeding rate limit\n",
    "        print(f'{100 * (i) / date_df_size:.2f}% complete with price data ({i} of {date_df_size}), [{date}]', end='\\r')\n",
    "        price_bars.append(bars)\n",
    "    if get_iv_data:\n",
    "        # print('-------------------')\n",
    "        # automatically run this here to grab both in one cell\n",
    "        if underlying_symbol == 'SPX' and get_iv_data and use_vix:\n",
    "            print('getting VIX TRADES data')\n",
    "            underlying = vix\n",
    "            what_to_show = 'TRADES'\n",
    "            scale_down = True\n",
    "        else:\n",
    "            print('getting OPTION_IMPLIED_VOLATILITY data')\n",
    "            # underlying is unchanged from above, just grab IV using what_to_show below\n",
    "            what_to_show = 'OPTION_IMPLIED_VOLATILITY'\n",
    "            scale_down = False\n",
    "        iv_bars = []\n",
    "        for i, date in enumerate(date_df['date']):\n",
    "            i += 1\n",
    "            date = str(date).replace('-', '')\n",
    "            date = f\"{date} 24:00:00 EST\"\n",
    "            bars = ib.reqHistoricalData(underlying, endDateTime=date, durationStr='1 D',\n",
    "                                        barSizeSetting=bar_size ,whatToShow=what_to_show,\n",
    "                                        useRTH=use_rth)\n",
    "            ib.sleep(3.5)  # avoid exceeding rate limit\n",
    "            print(f'{100 * (i) / date_df_size:.2f}% complete with IV data ({i} of {date_df_size}), [{date}]', end='\\r')\n",
    "            iv_bars.append(bars)\n",
    "else:\n",
    "    price_bars = ib.reqHistoricalData(underlying, endDateTime=end_date_time, durationStr=duration,\n",
    "                                      barSizeSetting=bar_size ,whatToShow='TRADES', useRTH=use_rth)\n",
    "    if get_iv_data:\n",
    "        # print('-------------------')\n",
    "        if underlying_symbol == 'SPX' and get_iv_data and use_vix:\n",
    "            underlying = vix\n",
    "            what_to_show = 'TRADES'\n",
    "            scale_down = True\n",
    "        else:\n",
    "            what_to_show = 'OPTION_IMPLIED_VOLATILITY'\n",
    "            scale_down = False\n",
    "        iv_bars = ib.reqHistoricalData(underlying, endDateTime=end_date_time, durationStr=duration,\n",
    "                                       barSizeSetting=bar_size ,whatToShow=what_to_show, useRTH=use_rth)\n"
   ]
  },
  {
   "cell_type": "code",
   "execution_count": 96,
   "id": "d7acbf25",
   "metadata": {},
   "outputs": [],
   "source": [
    "# clean the nested bardata that results from using a date df and appending data.\n",
    "if use_date_df:\n",
    "    a = []\n",
    "    for day in price_bars:\n",
    "        if 'min' in bar_size:\n",
    "            for minute in day:\n",
    "                if minute != []:\n",
    "                    a.append(minute)\n",
    "        else:\n",
    "            a.append(day)\n",
    "    price_df = pd.DataFrame(a)\n",
    "    if get_iv_data:\n",
    "        b = []\n",
    "        for day in iv_bars:\n",
    "            if 'min' in bar_size:\n",
    "                for minute in day:\n",
    "                    if minute != []:\n",
    "                        b.append(minute)\n",
    "            else:\n",
    "                b.append(day)\n",
    "        iv_df = pd.DataFrame(b)\n",
    "else:\n",
    "    price_df = pd.DataFrame(price_bars)\n",
    "    if get_iv_data:\n",
    "        iv_df = pd.DataFrame(iv_bars)\n"
   ]
  },
  {
   "cell_type": "code",
   "execution_count": 108,
   "id": "0a109e89",
   "metadata": {},
   "outputs": [
    {
     "name": "stdout",
     "output_type": "stream",
     "text": [
      "                       date     open     high      low    close\n",
      "0       2004-03-12 09:30:00  1110.58  1111.22  1110.58  1111.01\n",
      "1       2004-03-12 09:31:00  1111.10  1111.63  1111.10  1111.63\n",
      "2       2004-03-12 09:32:00  1111.72  1112.18  1111.72  1112.18\n",
      "3       2004-03-12 09:33:00  1112.09  1112.18  1112.09  1112.09\n",
      "4       2004-03-12 09:34:00  1111.46  1111.55  1111.15  1111.15\n",
      "...                     ...      ...      ...      ...      ...\n",
      "1772384 2022-03-07 15:55:00  4201.06  4205.02  4201.06  4204.11\n",
      "1772385 2022-03-07 15:56:00  4204.43  4206.89  4203.42  4203.82\n",
      "1772386 2022-03-07 15:57:00  4203.94  4210.72  4203.78  4208.31\n",
      "1772387 2022-03-07 15:58:00  4208.62  4210.68  4205.93  4205.93\n",
      "1772388 2022-03-07 15:59:00  4205.77  4206.60  4199.85  4201.57\n",
      "\n",
      "[1772389 rows x 5 columns]\n"
     ]
    }
   ],
   "source": [
    "price_df = pd.read_pickle('./1min_price_df.pkl')\n",
    "print(price_df)"
   ]
  },
  {
   "cell_type": "code",
   "execution_count": 109,
   "id": "f0964799",
   "metadata": {},
   "outputs": [
    {
     "name": "stdout",
     "output_type": "stream",
     "text": [
      "                       date  iv_open  iv_high  iv_low  iv_close\n",
      "0       2005-10-03 09:31:00   0.1237   0.1237  0.1237    0.1237\n",
      "1       2005-10-03 09:32:00   0.1237   0.1237  0.1235    0.1235\n",
      "2       2005-10-03 09:33:00   0.1237   0.1238  0.1235    0.1238\n",
      "3       2005-10-03 09:34:00   0.1234   0.1238  0.1234    0.1238\n",
      "4       2005-10-03 09:35:00   0.1239   0.1239  0.1236    0.1238\n",
      "...                     ...      ...      ...     ...       ...\n",
      "2168956 2022-03-08 16:10:00   0.3532   0.3532  0.3518    0.3518\n",
      "2168957 2022-03-08 16:11:00   0.3510   0.3511  0.3507    0.3511\n",
      "2168958 2022-03-08 16:12:00   0.3513   0.3519  0.3513    0.3519\n",
      "2168959 2022-03-08 16:13:00   0.3517   0.3517  0.3509    0.3512\n",
      "2168960 2022-03-08 16:14:00   0.3510   0.3510  0.3502    0.3504\n",
      "\n",
      "[2168961 rows x 5 columns]\n"
     ]
    }
   ],
   "source": [
    "print(iv_df)"
   ]
  },
  {
   "cell_type": "code",
   "execution_count": 106,
   "id": "7d9a7cd5",
   "metadata": {},
   "outputs": [],
   "source": [
    "# Further clean up the data\n",
    "price_df.drop(['volume', 'average', 'barCount'], axis=1, inplace=True)\n",
    "if get_iv_data:\n",
    "    iv_df.drop(['volume', 'average', 'barCount'], axis=1, inplace=True)\n",
    "    if scale_down:\n",
    "        # VIX data are on a /100 basis. OPTION_IMPLIED_VOLATILITY is decimal. Scale VIX down to match:\n",
    "        iv_df['open'] /= 100\n",
    "        iv_df['high'] /= 100\n",
    "        iv_df['low'] /= 100\n",
    "        iv_df['close'] /= 100\n",
    "    # rename columns to avoid a collision when merging price_df later on.\n",
    "    iv_df.rename(columns={\"open\": \"iv_open\", \"high\": \"iv_high\", \"low\": \"iv_low\", \"close\": \"iv_close\"}, inplace=True)\n"
   ]
  },
  {
   "cell_type": "code",
   "execution_count": 110,
   "id": "c6ba3675",
   "metadata": {},
   "outputs": [
    {
     "name": "stdout",
     "output_type": "stream",
     "text": [
      "                       date     open     high      low    close  ...  \\\n",
      "0       2005-10-03 09:33:00  1230.03  1230.12  1230.03  1230.12  ...   \n",
      "1       2005-10-03 09:34:00  1230.03  1230.03  1229.65  1229.65  ...   \n",
      "2       2005-10-03 09:35:00  1229.56  1229.85  1229.46  1229.85  ...   \n",
      "3       2005-10-03 09:36:00  1229.75  1229.75  1229.57  1229.66  ...   \n",
      "4       2005-10-03 09:37:00  1229.76  1230.04  1229.74  1229.93  ...   \n",
      "...                     ...      ...      ...      ...      ...  ...   \n",
      "1599920 2022-03-07 15:55:00  4201.06  4205.02  4201.06  4204.11  ...   \n",
      "1599921 2022-03-07 15:56:00  4204.43  4206.89  4203.42  4203.82  ...   \n",
      "1599922 2022-03-07 15:57:00  4203.94  4210.72  4203.78  4208.31  ...   \n",
      "1599923 2022-03-07 15:58:00  4208.62  4210.68  4205.93  4205.93  ...   \n",
      "1599924 2022-03-07 15:59:00  4205.77  4206.60  4199.85  4201.57  ...   \n",
      "\n",
      "          max_vol    max_up  max_down  peak_move  day  \n",
      "0        0.022937  0.000073  0.000000   0.000073    0  \n",
      "1        0.096865  0.000000 -0.000309  -0.000309    0  \n",
      "2        0.099429  0.000236 -0.000081   0.000236    0  \n",
      "3        0.045890  0.000000 -0.000146  -0.000146    0  \n",
      "4        0.076469  0.000228 -0.000016   0.000228    0  \n",
      "...           ...       ...       ...        ...  ...  \n",
      "1599920  0.295369  0.000943  0.000000   0.000943    0  \n",
      "1599921  0.258690  0.000585 -0.000240   0.000585    0  \n",
      "1599922  0.517123  0.001613 -0.000038   0.001613    0  \n",
      "1599923  0.353850  0.000489 -0.000639  -0.000639    0  \n",
      "1599924  0.503447  0.000197 -0.001408  -0.001408    0  \n",
      "\n",
      "[1599925 rows x 24 columns]\n"
     ]
    }
   ],
   "source": [
    "# merge the two DFs and drop duplicate rows\n",
    "if get_iv_data:\n",
    "    # there is both price and iv data. merge the two.\n",
    "    new_df = pd.merge(price_df, iv_df, on='date')\n",
    "else:\n",
    "    new_df = price_df\n",
    "if is_update:\n",
    "    df = existing_df.append(new_df)\n",
    "    df.reset_index(inplace=True, drop=True)\n",
    "    df.drop_duplicates(subset=['date'], inplace=True)\n",
    "else:\n",
    "    df = new_df\n",
    "if recalculate_columns:\n",
    "    df = recalculate_column_values(df, bar_size)\n",
    "print(df)"
   ]
  },
  {
   "cell_type": "code",
   "execution_count": 112,
   "id": "62b1a4e6",
   "metadata": {},
   "outputs": [
    {
     "name": "stdout",
     "output_type": "stream",
     "text": [
      "<class 'pandas.core.frame.DataFrame'>\n",
      "Int64Index: 1599925 entries, 0 to 1599924\n",
      "Data columns (total 24 columns):\n",
      " #   Column          Non-Null Count    Dtype         \n",
      "---  ------          --------------    -----         \n",
      " 0   date            1599925 non-null  datetime64[ns]\n",
      " 1   open            1599925 non-null  float64       \n",
      " 2   high            1599925 non-null  float64       \n",
      " 3   low             1599925 non-null  float64       \n",
      " 4   close           1599925 non-null  float64       \n",
      " 5   iv_open         1599925 non-null  float64       \n",
      " 6   iv_high         1599925 non-null  float64       \n",
      " 7   iv_low          1599925 non-null  float64       \n",
      " 8   iv_close        1599925 non-null  float64       \n",
      " 9   prev_close      1599924 non-null  float64       \n",
      " 10  iv_prev_close   1599924 non-null  float64       \n",
      " 11  open_close      1599925 non-null  float64       \n",
      " 12  close_close     1599924 non-null  float64       \n",
      " 13  close_open      1599924 non-null  float64       \n",
      " 14  iv_open_close   1599925 non-null  float64       \n",
      " 15  iv_close_close  1599924 non-null  float64       \n",
      " 16  iv_close_open   1599924 non-null  float64       \n",
      " 17  real_vol        1599925 non-null  float64       \n",
      " 18  previous_vol    1599924 non-null  float64       \n",
      " 19  max_vol         1599925 non-null  float64       \n",
      " 20  max_up          1599925 non-null  float64       \n",
      " 21  max_down        1599925 non-null  float64       \n",
      " 22  peak_move       1599925 non-null  float64       \n",
      " 23  day             1599925 non-null  int64         \n",
      "dtypes: datetime64[ns](1), float64(22), int64(1)\n",
      "memory usage: 305.2 MB\n"
     ]
    }
   ],
   "source": [
    "df.info()"
   ]
  },
  {
   "cell_type": "code",
   "execution_count": 115,
   "id": "ccf91a69",
   "metadata": {},
   "outputs": [
    {
     "data": {
      "text/plain": [
       "<AxesSubplot:xlabel='date'>"
      ]
     },
     "execution_count": 115,
     "metadata": {},
     "output_type": "execute_result"
    },
    {
     "data": {
      "image/png": "[encoded data removed]",
      "text/plain": [
       "<Figure size 432x288 with 1 Axes>"
      ]
     },
     "metadata": {
      "needs_background": "light"
     },
     "output_type": "display_data"
    },
    {
     "data": {
      "image/png": "[encoded data removed]",
      "text/plain": [
       "<Figure size 432x288 with 1 Axes>"
      ]
     },
     "metadata": {
      "needs_background": "light"
     },
     "output_type": "display_data"
    },
    {
     "data": {
      "image/png": "[encoded data removed]",
      "text/plain": [
       "<Figure size 432x288 with 1 Axes>"
      ]
     },
     "metadata": {
      "needs_background": "light"
     },
     "output_type": "display_data"
    },
    {
     "data": {
      "image/png": "[encoded data removed]",
      "text/plain": [
       "<Figure size 432x288 with 1 Axes>"
      ]
     },
     "metadata": {
      "needs_background": "light"
     },
     "output_type": "display_data"
    }
   ],
   "source": [
    "# plot the underlying and iv to visually identify any issues\n",
    "df.plot('date', 'open')\n",
    "df.plot('date', 'iv_open')\n",
    "\n",
    "# below are for 1 min bar size\n",
    "# df.iloc[:390].plot('date', 'open')\n",
    "# df.iloc[:390].plot('date', 'iv_open')\n",
    "# df.iloc[-390:].plot('date', 'open')\n",
    "# df.iloc[-390:].plot('date', 'iv_open')"
   ]
  },
  {
   "cell_type": "code",
   "execution_count": 116,
   "id": "5756442a",
   "metadata": {},
   "outputs": [
    {
     "name": "stdout",
     "output_type": "stream",
     "text": [
      "                     date\n",
      "56001 2006-05-22 09:31:00\n"
     ]
    }
   ],
   "source": [
    "# programmatically test for errors, checking for gaps > 5 days.\n",
    "delta = pd.Timedelta(days=5)\n",
    "pf = df.copy()\n",
    "pf['gap'] = (pf['date'] > pf['date'].shift(1) + delta)\n",
    "idx = pf[pf['gap'] == True].index\n",
    "print(pf.iloc[idx][['date']])"
   ]
  },
  {
   "cell_type": "code",
   "execution_count": 125,
   "id": "59e805e7",
   "metadata": {},
   "outputs": [],
   "source": [
    "# if a gap is found in the above cell, split the df around that gap and save the pre_gap as a pickle.\n",
    "# pre_gap_df = df.iloc[:idx[0]]\n",
    "# df = df.iloc[idx[0]:]\n",
    "# pre_gap_df.to_pickle(f'../../dfs/pre_gap_{file_name}.pkl')"
   ]
  },
  {
   "cell_type": "code",
   "execution_count": 127,
   "id": "36202ee9",
   "metadata": {},
   "outputs": [],
   "source": [
    "if is_update:\n",
    "    # ensure no jumps exist where the new df was appended.\n",
    "    days_missing = int(duration.split(' ')[0])  # turn  string of 'x D' to just grab the int, x.\n",
    "    df.iloc[-(days_missing+10):].plot('date', 'open')"
   ]
  },
  {
   "cell_type": "code",
   "execution_count": 84,
   "id": "b16786fc",
   "metadata": {},
   "outputs": [
    {
     "name": "stdout",
     "output_type": "stream",
     "text": [
      "last saved on 2022-03-08, filename: 1min_spx_max_iv_rth.pkl\n"
     ]
    }
   ],
   "source": [
    "df.to_pickle(f'../../dfs/{file_name}')\n",
    "ib.disconnect()  # disconnect from IB\n",
    "print(f'last saved on {datetime.now().date()}, filename: {file_name}')"
   ]
  },
  {
   "cell_type": "code",
   "execution_count": null,
   "id": "a133eec7",
   "metadata": {},
   "outputs": [],
   "source": []
  },
  {
   "cell_type": "code",
   "execution_count": null,
   "id": "d9308890",
   "metadata": {},
   "outputs": [],
   "source": []
  }
 ],
 "metadata": {
  "kernelspec": {
   "display_name": "venv",
   "language": "python",
   "name": "python3"
  },
  "language_info": {
   "codemirror_mode": {
    "name": "ipython",
    "version": 3
   },
   "file_extension": ".py",
   "mimetype": "text/x-python",
   "name": "python",
   "nbconvert_exporter": "python",
   "pygments_lexer": "ipython3",
   "version": "3.11.0"
  },
  "vscode": {
   "interpreter": {
    "hash": "3f90a1961fd23f87366ac199cd918c558d9ba14ba6eca520e326eeca7720a6e9"
   }
  }
 },
 "nbformat": 4,
 "nbformat_minor": 5
}
